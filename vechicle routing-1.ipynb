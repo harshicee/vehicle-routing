{
 "cells": [
  {
   "cell_type": "code",
   "execution_count": null,
   "metadata": {},
   "outputs": [],
   "source": [
    "#include <stdio.h> \n",
    "#include <stdlib.h> \n",
    "#include <stdbool.h>\n",
    "#define MAX 100 \n",
    "#define INF 9999999\n",
    "// Structure to store the matrixtypedef struct {\n",
    "Int cost[MAX][MAX];\n",
    "int nodes; } matrix.\n",
    "matrix adj; // Adjacency matrix\n",
    "bool visited [MAX]; // Array to keep track of visited nodesint best_cost = INF; // Best cost found so far\n",
    "void input_matrix() {\n",
    "printf(\"Enter the number of nodes: \"); scanf(\"%d\", &adj.nodes);\n",
    "printf(\"Enter the adjacency matrix:\\n\");for (int i = 0; i < adj.nodes; i++) {\n",
    "for (int j = 0; j < adj.nodes; j++) { scanf(\"%d\", &adj.cost[i][j]);\n",
    "}\n",
    "} }\n",
    "int calculate_cost (int path [], int n) {int cost = 0;\n",
    "for (int i = 0; i < n - 1; i++) {\n",
    "cost += adj.cost[path[i]][path[i+1]];\n",
    "}\n",
    "return cost. }\n",
    "void print_path(int path[], int n) { printf(\"Path: \");\n",
    "for (int i = 0; i < n; i++) {\n",
    "printf(\"%d \", path[i]); }\n",
    "printf (\"%d\\n\", path [0]); }\n",
    "void divide_and_conquer(int path[], int n) {if (n == 2) {\n",
    "int cost = calculate_cost(path, n);if\n",
    "\n",
    "(cost < best_cost) { best_cost = cost; print_path(path, n);\n",
    "}\n",
    "return. }\n",
    "for (int i = 1; i < n - 1; i++) {if (!visited[i]) {\n",
    "visited[i] = true; int\n",
    "temp = path[i];\n",
    "path[i] = path[n-1];\n",
    "path[n-1] = temp; divide_and_conquer(path, n-1); visited[i] = false;\n",
    "temp = path[i]; path[i] = path[n-1]; path[n-1] = temp;\n",
    "} }\n",
    "}\n",
    "int main () { input_matrix();\n",
    "\n",
    "int path [MAX];\n",
    "for (int i = 0; i < adj.nodes; i++) {path[i] = i;\n",
    "visited[i] = false;\n",
    "}\n",
    "visited [0] = true; divide_and_conquer(path, adj.nodes); printf(\"Best cost: %d\\n\", best_cost); return 0;\n",
    "}"
   ]
  }
 ],
 "metadata": {
  "language_info": {
   "name": "python"
  }
 },
 "nbformat": 4,
 "nbformat_minor": 2
}
